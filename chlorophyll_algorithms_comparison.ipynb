{
 "cells": [
  {
   "cell_type": "code",
   "execution_count": 1,
   "metadata": {},
   "outputs": [],
   "source": [
    "from pathlib import Path\n",
    "\n",
    "import numpy as np\n",
    "import pandas as pd\n",
    "\n",
    "from sklearn.decomposition import PCA\n",
    "from sklearn.preprocessing import StandardScaler\n",
    "from sklearn.model_selection import train_test_split\n",
    "\n",
    "import pymc3 as pm\n",
    "\n",
    "import arviz as ar\n",
    "import matplotlib.pyplot as pl\n",
    "from matplotlib import rcParams\n",
    "import seaborn as sb\n",
    "%matplotlib inline"
   ]
  },
  {
   "cell_type": "code",
   "execution_count": 2,
   "metadata": {},
   "outputs": [],
   "source": [
    "rcParams['axes.formatter.limits'] = (-2, 3)\n",
    "rcParams['axes.labelsize'] = 16\n",
    "rcParams['xtick.labelsize'] = 16\n",
    "rcParams['ytick.labelsize'] = 16"
   ]
  },
  {
   "cell_type": "code",
   "execution_count": 3,
   "metadata": {},
   "outputs": [],
   "source": [
    "home = Path.home()"
   ]
  },
  {
   "cell_type": "markdown",
   "metadata": {},
   "source": [
    "### Methods\n",
    "\n",
    "The dataset used in this study was generated from the NOMAD dataset. 6 Rrs bands were used at 6 wavelength corresponding to SeaWiFS spectral coverage; 412, 443, 490, 510, 555, 670 nm. The following data transformation steps were implemented:\n",
    "* invalid data points were flagged and dropped\n",
    "* for band ratio algorithms, relevant ratios were pre-computed\n",
    "* for band ratio algorithms with max(Blue) formulation blue band used in the ratio was identified and flagged\n",
    "* for PCA-based algorithms, principal components were computed for all bands.\n",
    "* chlorophyll measurement method was identified and flagged\n",
    "* all predictors were standardized"
   ]
  },
  {
   "cell_type": "code",
   "execution_count": 4,
   "metadata": {},
   "outputs": [],
   "source": [
    "nomad_file = home / 'DATA/nomad_seabass_v2.a_2008200.txt'\n",
    "with open(nomad_file) as f:\n",
    "    for i, line in enumerate(f.readlines()):\n",
    "        if 'fields' in line:\n",
    "            columns = line.split('=')[1].split(',')\n",
    "            continue\n",
    "        if '/end_header' in line:\n",
    "            skiprows = i+1"
   ]
  },
  {
   "cell_type": "code",
   "execution_count": 5,
   "metadata": {},
   "outputs": [],
   "source": [
    "df_raw = pd.read_csv(nomad_file, names=columns, skiprows=skiprows,\n",
    "                     na_values=-999)"
   ]
  },
  {
   "cell_type": "code",
   "execution_count": 6,
   "metadata": {},
   "outputs": [],
   "source": [
    "bands = [411, 443, 489, 510, 555, 670]"
   ]
  },
  {
   "cell_type": "code",
   "execution_count": 7,
   "metadata": {},
   "outputs": [
    {
     "data": {
      "text/html": [
       "<div>\n",
       "<style scoped>\n",
       "    .dataframe tbody tr th:only-of-type {\n",
       "        vertical-align: middle;\n",
       "    }\n",
       "\n",
       "    .dataframe tbody tr th {\n",
       "        vertical-align: top;\n",
       "    }\n",
       "\n",
       "    .dataframe thead th {\n",
       "        text-align: right;\n",
       "    }\n",
       "</style>\n",
       "<table border=\"1\" class=\"dataframe\">\n",
       "  <thead>\n",
       "    <tr style=\"text-align: right;\">\n",
       "      <th></th>\n",
       "      <th>lw411</th>\n",
       "      <th>lw443</th>\n",
       "      <th>lw489</th>\n",
       "      <th>lw510</th>\n",
       "      <th>lw555</th>\n",
       "      <th>lw670</th>\n",
       "    </tr>\n",
       "  </thead>\n",
       "  <tbody>\n",
       "    <tr>\n",
       "      <th>count</th>\n",
       "      <td>4304.000000</td>\n",
       "      <td>4456.000000</td>\n",
       "      <td>4431.000000</td>\n",
       "      <td>3492.000000</td>\n",
       "      <td>3312.000000</td>\n",
       "      <td>1602.000000</td>\n",
       "    </tr>\n",
       "    <tr>\n",
       "      <th>mean</th>\n",
       "      <td>0.385876</td>\n",
       "      <td>0.433970</td>\n",
       "      <td>0.450727</td>\n",
       "      <td>0.416742</td>\n",
       "      <td>0.330696</td>\n",
       "      <td>0.136143</td>\n",
       "    </tr>\n",
       "    <tr>\n",
       "      <th>std</th>\n",
       "      <td>0.418701</td>\n",
       "      <td>0.437093</td>\n",
       "      <td>0.390907</td>\n",
       "      <td>0.368770</td>\n",
       "      <td>0.430900</td>\n",
       "      <td>0.231025</td>\n",
       "    </tr>\n",
       "    <tr>\n",
       "      <th>min</th>\n",
       "      <td>0.001019</td>\n",
       "      <td>0.001470</td>\n",
       "      <td>0.001470</td>\n",
       "      <td>0.001250</td>\n",
       "      <td>0.000600</td>\n",
       "      <td>0.000000</td>\n",
       "    </tr>\n",
       "    <tr>\n",
       "      <th>25%</th>\n",
       "      <td>0.099433</td>\n",
       "      <td>0.118075</td>\n",
       "      <td>0.150520</td>\n",
       "      <td>0.188368</td>\n",
       "      <td>0.120175</td>\n",
       "      <td>0.016921</td>\n",
       "    </tr>\n",
       "    <tr>\n",
       "      <th>50%</th>\n",
       "      <td>0.235650</td>\n",
       "      <td>0.280952</td>\n",
       "      <td>0.347400</td>\n",
       "      <td>0.347605</td>\n",
       "      <td>0.210395</td>\n",
       "      <td>0.055817</td>\n",
       "    </tr>\n",
       "    <tr>\n",
       "      <th>75%</th>\n",
       "      <td>0.501023</td>\n",
       "      <td>0.609602</td>\n",
       "      <td>0.657315</td>\n",
       "      <td>0.524745</td>\n",
       "      <td>0.330312</td>\n",
       "      <td>0.159858</td>\n",
       "    </tr>\n",
       "    <tr>\n",
       "      <th>max</th>\n",
       "      <td>3.525270</td>\n",
       "      <td>2.988000</td>\n",
       "      <td>3.592700</td>\n",
       "      <td>4.398700</td>\n",
       "      <td>6.288500</td>\n",
       "      <td>3.222200</td>\n",
       "    </tr>\n",
       "  </tbody>\n",
       "</table>\n",
       "</div>"
      ],
      "text/plain": [
       "             lw411        lw443        lw489        lw510        lw555  \\\n",
       "count  4304.000000  4456.000000  4431.000000  3492.000000  3312.000000   \n",
       "mean      0.385876     0.433970     0.450727     0.416742     0.330696   \n",
       "std       0.418701     0.437093     0.390907     0.368770     0.430900   \n",
       "min       0.001019     0.001470     0.001470     0.001250     0.000600   \n",
       "25%       0.099433     0.118075     0.150520     0.188368     0.120175   \n",
       "50%       0.235650     0.280952     0.347400     0.347605     0.210395   \n",
       "75%       0.501023     0.609602     0.657315     0.524745     0.330312   \n",
       "max       3.525270     2.988000     3.592700     4.398700     6.288500   \n",
       "\n",
       "             lw670  \n",
       "count  1602.000000  \n",
       "mean      0.136143  \n",
       "std       0.231025  \n",
       "min       0.000000  \n",
       "25%       0.016921  \n",
       "50%       0.055817  \n",
       "75%       0.159858  \n",
       "max       3.222200  "
      ]
     },
     "execution_count": 7,
     "metadata": {},
     "output_type": "execute_result"
    }
   ],
   "source": [
    "df_raw.loc[:, [f'lw{band}' for band in bands]].describe()"
   ]
  },
  {
   "cell_type": "code",
   "execution_count": 8,
   "metadata": {},
   "outputs": [
    {
     "data": {
      "text/html": [
       "<div>\n",
       "<style scoped>\n",
       "    .dataframe tbody tr th:only-of-type {\n",
       "        vertical-align: middle;\n",
       "    }\n",
       "\n",
       "    .dataframe tbody tr th {\n",
       "        vertical-align: top;\n",
       "    }\n",
       "\n",
       "    .dataframe thead th {\n",
       "        text-align: right;\n",
       "    }\n",
       "</style>\n",
       "<table border=\"1\" class=\"dataframe\">\n",
       "  <thead>\n",
       "    <tr style=\"text-align: right;\">\n",
       "      <th></th>\n",
       "      <th>es411</th>\n",
       "      <th>es443</th>\n",
       "      <th>es489</th>\n",
       "      <th>es510</th>\n",
       "      <th>es555</th>\n",
       "      <th>es670</th>\n",
       "    </tr>\n",
       "  </thead>\n",
       "  <tbody>\n",
       "    <tr>\n",
       "      <th>count</th>\n",
       "      <td>4305.000000</td>\n",
       "      <td>4459.000000</td>\n",
       "      <td>4450.000000</td>\n",
       "      <td>3446.000000</td>\n",
       "      <td>3258.000000</td>\n",
       "      <td>1616.000000</td>\n",
       "    </tr>\n",
       "    <tr>\n",
       "      <th>mean</th>\n",
       "      <td>73.540755</td>\n",
       "      <td>85.777988</td>\n",
       "      <td>93.053646</td>\n",
       "      <td>99.686608</td>\n",
       "      <td>97.828945</td>\n",
       "      <td>96.691502</td>\n",
       "    </tr>\n",
       "    <tr>\n",
       "      <th>std</th>\n",
       "      <td>42.527826</td>\n",
       "      <td>49.526399</td>\n",
       "      <td>52.812348</td>\n",
       "      <td>47.437513</td>\n",
       "      <td>45.437147</td>\n",
       "      <td>37.233330</td>\n",
       "    </tr>\n",
       "    <tr>\n",
       "      <th>min</th>\n",
       "      <td>0.412000</td>\n",
       "      <td>0.489000</td>\n",
       "      <td>0.479000</td>\n",
       "      <td>0.420000</td>\n",
       "      <td>0.284000</td>\n",
       "      <td>1.287880</td>\n",
       "    </tr>\n",
       "    <tr>\n",
       "      <th>25%</th>\n",
       "      <td>34.741000</td>\n",
       "      <td>40.442000</td>\n",
       "      <td>44.969450</td>\n",
       "      <td>61.575050</td>\n",
       "      <td>62.379225</td>\n",
       "      <td>74.092875</td>\n",
       "    </tr>\n",
       "    <tr>\n",
       "      <th>50%</th>\n",
       "      <td>75.080000</td>\n",
       "      <td>88.201800</td>\n",
       "      <td>96.760450</td>\n",
       "      <td>105.335000</td>\n",
       "      <td>104.924000</td>\n",
       "      <td>102.500000</td>\n",
       "    </tr>\n",
       "    <tr>\n",
       "      <th>75%</th>\n",
       "      <td>110.525000</td>\n",
       "      <td>127.631500</td>\n",
       "      <td>138.594000</td>\n",
       "      <td>139.984750</td>\n",
       "      <td>136.329000</td>\n",
       "      <td>123.000000</td>\n",
       "    </tr>\n",
       "    <tr>\n",
       "      <th>max</th>\n",
       "      <td>216.678000</td>\n",
       "      <td>238.739000</td>\n",
       "      <td>249.221000</td>\n",
       "      <td>252.287000</td>\n",
       "      <td>243.629000</td>\n",
       "      <td>194.600000</td>\n",
       "    </tr>\n",
       "  </tbody>\n",
       "</table>\n",
       "</div>"
      ],
      "text/plain": [
       "             es411        es443        es489        es510        es555  \\\n",
       "count  4305.000000  4459.000000  4450.000000  3446.000000  3258.000000   \n",
       "mean     73.540755    85.777988    93.053646    99.686608    97.828945   \n",
       "std      42.527826    49.526399    52.812348    47.437513    45.437147   \n",
       "min       0.412000     0.489000     0.479000     0.420000     0.284000   \n",
       "25%      34.741000    40.442000    44.969450    61.575050    62.379225   \n",
       "50%      75.080000    88.201800    96.760450   105.335000   104.924000   \n",
       "75%     110.525000   127.631500   138.594000   139.984750   136.329000   \n",
       "max     216.678000   238.739000   249.221000   252.287000   243.629000   \n",
       "\n",
       "             es670  \n",
       "count  1616.000000  \n",
       "mean     96.691502  \n",
       "std      37.233330  \n",
       "min       1.287880  \n",
       "25%      74.092875  \n",
       "50%     102.500000  \n",
       "75%     123.000000  \n",
       "max     194.600000  "
      ]
     },
     "execution_count": 8,
     "metadata": {},
     "output_type": "execute_result"
    }
   ],
   "source": [
    "df_raw.loc[:, [f'es{band}' for band in bands]].describe()"
   ]
  },
  {
   "cell_type": "code",
   "execution_count": 9,
   "metadata": {},
   "outputs": [
    {
     "data": {
      "text/html": [
       "<div>\n",
       "<style scoped>\n",
       "    .dataframe tbody tr th:only-of-type {\n",
       "        vertical-align: middle;\n",
       "    }\n",
       "\n",
       "    .dataframe tbody tr th {\n",
       "        vertical-align: top;\n",
       "    }\n",
       "\n",
       "    .dataframe thead th {\n",
       "        text-align: right;\n",
       "    }\n",
       "</style>\n",
       "<table border=\"1\" class=\"dataframe\">\n",
       "  <thead>\n",
       "    <tr style=\"text-align: right;\">\n",
       "      <th></th>\n",
       "      <th>id</th>\n",
       "      <th>rrs411</th>\n",
       "      <th>rrs443</th>\n",
       "      <th>rrs489</th>\n",
       "      <th>rrs510</th>\n",
       "      <th>rrs555</th>\n",
       "      <th>rrs670</th>\n",
       "      <th>chl</th>\n",
       "      <th>chl_a</th>\n",
       "    </tr>\n",
       "  </thead>\n",
       "  <tbody>\n",
       "    <tr>\n",
       "      <th>0</th>\n",
       "      <td>1565</td>\n",
       "      <td>0.001204</td>\n",
       "      <td>0.001686</td>\n",
       "      <td>0.003293</td>\n",
       "      <td>0.004036</td>\n",
       "      <td>0.007479</td>\n",
       "      <td>0.003465</td>\n",
       "      <td>38.19</td>\n",
       "      <td>NaN</td>\n",
       "    </tr>\n",
       "    <tr>\n",
       "      <th>1</th>\n",
       "      <td>1566</td>\n",
       "      <td>0.001062</td>\n",
       "      <td>0.001384</td>\n",
       "      <td>0.002173</td>\n",
       "      <td>0.002499</td>\n",
       "      <td>0.004152</td>\n",
       "      <td>0.001695</td>\n",
       "      <td>35.01</td>\n",
       "      <td>NaN</td>\n",
       "    </tr>\n",
       "    <tr>\n",
       "      <th>2</th>\n",
       "      <td>1567</td>\n",
       "      <td>0.000971</td>\n",
       "      <td>0.001185</td>\n",
       "      <td>0.001843</td>\n",
       "      <td>0.002288</td>\n",
       "      <td>0.004246</td>\n",
       "      <td>0.001612</td>\n",
       "      <td>26.91</td>\n",
       "      <td>NaN</td>\n",
       "    </tr>\n",
       "    <tr>\n",
       "      <th>3</th>\n",
       "      <td>1568</td>\n",
       "      <td>0.001472</td>\n",
       "      <td>0.001741</td>\n",
       "      <td>0.002877</td>\n",
       "      <td>0.003664</td>\n",
       "      <td>0.006982</td>\n",
       "      <td>0.003234</td>\n",
       "      <td>47.96</td>\n",
       "      <td>NaN</td>\n",
       "    </tr>\n",
       "    <tr>\n",
       "      <th>4</th>\n",
       "      <td>1559</td>\n",
       "      <td>0.000905</td>\n",
       "      <td>0.001022</td>\n",
       "      <td>0.001506</td>\n",
       "      <td>0.001903</td>\n",
       "      <td>0.002801</td>\n",
       "      <td>0.001791</td>\n",
       "      <td>23.55</td>\n",
       "      <td>NaN</td>\n",
       "    </tr>\n",
       "  </tbody>\n",
       "</table>\n",
       "</div>"
      ],
      "text/plain": [
       "     id    rrs411    rrs443    rrs489    rrs510    rrs555    rrs670    chl  \\\n",
       "0  1565  0.001204  0.001686  0.003293  0.004036  0.007479  0.003465  38.19   \n",
       "1  1566  0.001062  0.001384  0.002173  0.002499  0.004152  0.001695  35.01   \n",
       "2  1567  0.000971  0.001185  0.001843  0.002288  0.004246  0.001612  26.91   \n",
       "3  1568  0.001472  0.001741  0.002877  0.003664  0.006982  0.003234  47.96   \n",
       "4  1559  0.000905  0.001022  0.001506  0.001903  0.002801  0.001791  23.55   \n",
       "\n",
       "   chl_a  \n",
       "0    NaN  \n",
       "1    NaN  \n",
       "2    NaN  \n",
       "3    NaN  \n",
       "4    NaN  "
      ]
     },
     "execution_count": 9,
     "metadata": {},
     "output_type": "execute_result"
    }
   ],
   "source": [
    "for band in bands:\n",
    "    df_raw[f'rrs{band}'] = df_raw[f'lw{band}'] / df_raw[f'es{band}']\n",
    "columns = df_raw.filter(regex='rrs', axis=1).columns\n",
    "columns = ['id'] + columns.tolist() + ['chl', 'chl_a']\n",
    "df = df_raw[columns].copy()\n",
    "\n",
    "df.head()"
   ]
  },
  {
   "cell_type": "code",
   "execution_count": 10,
   "metadata": {},
   "outputs": [
    {
     "data": {
      "text/html": [
       "<div>\n",
       "<style scoped>\n",
       "    .dataframe tbody tr th:only-of-type {\n",
       "        vertical-align: middle;\n",
       "    }\n",
       "\n",
       "    .dataframe tbody tr th {\n",
       "        vertical-align: top;\n",
       "    }\n",
       "\n",
       "    .dataframe thead th {\n",
       "        text-align: right;\n",
       "    }\n",
       "</style>\n",
       "<table border=\"1\" class=\"dataframe\">\n",
       "  <thead>\n",
       "    <tr style=\"text-align: right;\">\n",
       "      <th></th>\n",
       "      <th>id</th>\n",
       "      <th>rrs411</th>\n",
       "      <th>rrs443</th>\n",
       "      <th>rrs489</th>\n",
       "      <th>rrs510</th>\n",
       "      <th>rrs555</th>\n",
       "      <th>rrs670</th>\n",
       "      <th>chl</th>\n",
       "      <th>chl_a</th>\n",
       "    </tr>\n",
       "  </thead>\n",
       "  <tbody>\n",
       "    <tr>\n",
       "      <th>count</th>\n",
       "      <td>4459.000000</td>\n",
       "      <td>4293.000000</td>\n",
       "      <td>4456.000000</td>\n",
       "      <td>4422.000000</td>\n",
       "      <td>3435.000000</td>\n",
       "      <td>3255.000000</td>\n",
       "      <td>1598.000000</td>\n",
       "      <td>3392.000000</td>\n",
       "      <td>1381.000000</td>\n",
       "    </tr>\n",
       "    <tr>\n",
       "      <th>mean</th>\n",
       "      <td>4377.381251</td>\n",
       "      <td>0.004881</td>\n",
       "      <td>0.004652</td>\n",
       "      <td>0.004590</td>\n",
       "      <td>0.004130</td>\n",
       "      <td>0.003256</td>\n",
       "      <td>0.001557</td>\n",
       "      <td>2.703251</td>\n",
       "      <td>2.285293</td>\n",
       "    </tr>\n",
       "    <tr>\n",
       "      <th>std</th>\n",
       "      <td>2298.272102</td>\n",
       "      <td>0.003447</td>\n",
       "      <td>0.003002</td>\n",
       "      <td>0.002768</td>\n",
       "      <td>0.003130</td>\n",
       "      <td>0.003536</td>\n",
       "      <td>0.002387</td>\n",
       "      <td>5.611762</td>\n",
       "      <td>5.752391</td>\n",
       "    </tr>\n",
       "    <tr>\n",
       "      <th>min</th>\n",
       "      <td>6.000000</td>\n",
       "      <td>0.000051</td>\n",
       "      <td>0.000190</td>\n",
       "      <td>0.000284</td>\n",
       "      <td>0.000261</td>\n",
       "      <td>0.000183</td>\n",
       "      <td>0.000000</td>\n",
       "      <td>0.012000</td>\n",
       "      <td>0.017000</td>\n",
       "    </tr>\n",
       "    <tr>\n",
       "      <th>25%</th>\n",
       "      <td>2028.500000</td>\n",
       "      <td>0.002509</td>\n",
       "      <td>0.002617</td>\n",
       "      <td>0.003051</td>\n",
       "      <td>0.002831</td>\n",
       "      <td>0.001588</td>\n",
       "      <td>0.000200</td>\n",
       "      <td>0.274000</td>\n",
       "      <td>0.145000</td>\n",
       "    </tr>\n",
       "    <tr>\n",
       "      <th>50%</th>\n",
       "      <td>5039.000000</td>\n",
       "      <td>0.003984</td>\n",
       "      <td>0.003899</td>\n",
       "      <td>0.004153</td>\n",
       "      <td>0.003425</td>\n",
       "      <td>0.002071</td>\n",
       "      <td>0.000614</td>\n",
       "      <td>0.830000</td>\n",
       "      <td>0.538000</td>\n",
       "    </tr>\n",
       "    <tr>\n",
       "      <th>75%</th>\n",
       "      <td>6271.500000</td>\n",
       "      <td>0.006301</td>\n",
       "      <td>0.006076</td>\n",
       "      <td>0.005655</td>\n",
       "      <td>0.004242</td>\n",
       "      <td>0.003141</td>\n",
       "      <td>0.002000</td>\n",
       "      <td>2.240080</td>\n",
       "      <td>1.694000</td>\n",
       "    </tr>\n",
       "    <tr>\n",
       "      <th>max</th>\n",
       "      <td>7831.000000</td>\n",
       "      <td>0.030600</td>\n",
       "      <td>0.036769</td>\n",
       "      <td>0.063814</td>\n",
       "      <td>0.077740</td>\n",
       "      <td>0.046600</td>\n",
       "      <td>0.027700</td>\n",
       "      <td>77.864800</td>\n",
       "      <td>70.213300</td>\n",
       "    </tr>\n",
       "  </tbody>\n",
       "</table>\n",
       "</div>"
      ],
      "text/plain": [
       "                id       rrs411       rrs443       rrs489       rrs510  \\\n",
       "count  4459.000000  4293.000000  4456.000000  4422.000000  3435.000000   \n",
       "mean   4377.381251     0.004881     0.004652     0.004590     0.004130   \n",
       "std    2298.272102     0.003447     0.003002     0.002768     0.003130   \n",
       "min       6.000000     0.000051     0.000190     0.000284     0.000261   \n",
       "25%    2028.500000     0.002509     0.002617     0.003051     0.002831   \n",
       "50%    5039.000000     0.003984     0.003899     0.004153     0.003425   \n",
       "75%    6271.500000     0.006301     0.006076     0.005655     0.004242   \n",
       "max    7831.000000     0.030600     0.036769     0.063814     0.077740   \n",
       "\n",
       "            rrs555       rrs670          chl        chl_a  \n",
       "count  3255.000000  1598.000000  3392.000000  1381.000000  \n",
       "mean      0.003256     0.001557     2.703251     2.285293  \n",
       "std       0.003536     0.002387     5.611762     5.752391  \n",
       "min       0.000183     0.000000     0.012000     0.017000  \n",
       "25%       0.001588     0.000200     0.274000     0.145000  \n",
       "50%       0.002071     0.000614     0.830000     0.538000  \n",
       "75%       0.003141     0.002000     2.240080     1.694000  \n",
       "max       0.046600     0.027700    77.864800    70.213300  "
      ]
     },
     "execution_count": 10,
     "metadata": {},
     "output_type": "execute_result"
    }
   ],
   "source": [
    "df.describe()"
   ]
  },
  {
   "cell_type": "code",
   "execution_count": 11,
   "metadata": {},
   "outputs": [
    {
     "name": "stdout",
     "output_type": "stream",
     "text": [
      "<class 'pandas.core.frame.DataFrame'>\n",
      "RangeIndex: 4459 entries, 0 to 4458\n",
      "Data columns (total 9 columns):\n",
      "id        4459 non-null int64\n",
      "rrs411    4293 non-null float64\n",
      "rrs443    4456 non-null float64\n",
      "rrs489    4422 non-null float64\n",
      "rrs510    3435 non-null float64\n",
      "rrs555    3255 non-null float64\n",
      "rrs670    1598 non-null float64\n",
      "chl       3392 non-null float64\n",
      "chl_a     1381 non-null float64\n",
      "dtypes: float64(8), int64(1)\n",
      "memory usage: 313.6 KB\n"
     ]
    }
   ],
   "source": [
    "df.info()"
   ]
  },
  {
   "cell_type": "code",
   "execution_count": 12,
   "metadata": {},
   "outputs": [],
   "source": [
    "#chlorophyll measurement method was identified and flagged\n",
    "def fill_chl(row):\n",
    "    return row['chl_a'] if np.isfinite(row['chl_a']) else row['chl']\n",
    "\n",
    "df['chlor_a'] = df.apply(fill_chl, axis=1)\n",
    "df['is_hplc'] = np.isfinite(df.chl_a)\n",
    "df.drop(['chl', 'chl_a'], axis=1, inplace=True)"
   ]
  },
  {
   "cell_type": "code",
   "execution_count": 13,
   "metadata": {},
   "outputs": [],
   "source": [
    "df_clean = df.dropna().copy()"
   ]
  },
  {
   "cell_type": "code",
   "execution_count": 14,
   "metadata": {},
   "outputs": [],
   "source": [
    "df_clean.to_pickle('./df_clean.pkl')\n",
    "df.to_pickle('./df_main.pkl')\n",
    "df_raw.to_pickle('./df_raw.pkl')"
   ]
  },
  {
   "cell_type": "code",
   "execution_count": 15,
   "metadata": {
    "scrolled": true
   },
   "outputs": [],
   "source": [
    "#for band ratio algorithms, relevant ratios were pre-computed\n",
    "blue_bands = ['rrs443', 'rrs489', 'rrs510']\n",
    "df_clean['MaxBlue'] = df_clean[blue_bands].max(axis=1)\n",
    "#identify and flag max blue band\n",
    "df_clean['MaxBlueBand'] = df_clean[blue_bands].idxmax(axis=1).str.capitalize()"
   ]
  },
  {
   "cell_type": "code",
   "execution_count": 34,
   "metadata": {},
   "outputs": [],
   "source": [
    "df_clean = df_clean.loc[df_clean.rrs670 > 0, :].copy()"
   ]
  },
  {
   "cell_type": "code",
   "execution_count": 35,
   "metadata": {},
   "outputs": [
    {
     "name": "stdout",
     "output_type": "stream",
     "text": [
      "<class 'pandas.core.frame.DataFrame'>\n",
      "Int64Index: 1016 entries, 0 to 4458\n",
      "Data columns (total 12 columns):\n",
      "id             1016 non-null int64\n",
      "rrs411         1016 non-null float64\n",
      "rrs443         1016 non-null float64\n",
      "rrs489         1016 non-null float64\n",
      "rrs510         1016 non-null float64\n",
      "rrs555         1016 non-null float64\n",
      "rrs670         1016 non-null float64\n",
      "chlor_a        1016 non-null float64\n",
      "is_hplc        1016 non-null bool\n",
      "MaxBlue        1016 non-null float64\n",
      "MaxBlueBand    1016 non-null object\n",
      "mxBlu2Gr       1016 non-null float64\n",
      "dtypes: bool(1), float64(9), int64(1), object(1)\n",
      "memory usage: 96.2+ KB\n"
     ]
    }
   ],
   "source": [
    "df_clean.info()"
   ]
  },
  {
   "cell_type": "code",
   "execution_count": 36,
   "metadata": {},
   "outputs": [],
   "source": [
    "df_clean['mxBlu2Gr'] = df_clean.MaxBlue / df_clean.rrs555"
   ]
  },
  {
   "cell_type": "code",
   "execution_count": 37,
   "metadata": {},
   "outputs": [],
   "source": [
    "columns_to_log_transform = df_clean.filter(regex='(rrs|chl|mxBlu2)',\n",
    "                                         axis=1).columns.tolist()\n",
    "\n",
    "# log_transforms\n",
    "df_log = pd.DataFrame(np.log10(df_clean.loc[:,\n",
    "                                            columns_to_log_transform\n",
    "                                           ].values),\n",
    "                      columns=[f'log_{col}' \n",
    "                               for col in columns_to_log_transform])"
   ]
  },
  {
   "cell_type": "markdown",
   "metadata": {},
   "source": [
    "Note on computing sd on log scale:\n",
    "\n",
    "\n",
    "If Var(exp(log_rrs))≈exp$(\\mu_{log\\_rrs})^2\\sigma^2_{log\\_rrs}$\n",
    "\n",
    "$sd(exp(log\\_rrs))≈exp(\\mu_{log\\_rrs})\\sigma_{log\\_rrs}$\n"
   ]
  },
  {
   "cell_type": "markdown",
   "metadata": {},
   "source": [
    "$\\leftrightarrow \\ \\sigma_{log\\_rrs} ≈ \\frac{sd(rrs)}{exp(\\mu_{log\\_rrs})}$"
   ]
  },
  {
   "cell_type": "code",
   "execution_count": 38,
   "metadata": {},
   "outputs": [
    {
     "data": {
      "text/html": [
       "<div>\n",
       "<style scoped>\n",
       "    .dataframe tbody tr th:only-of-type {\n",
       "        vertical-align: middle;\n",
       "    }\n",
       "\n",
       "    .dataframe tbody tr th {\n",
       "        vertical-align: top;\n",
       "    }\n",
       "\n",
       "    .dataframe thead th {\n",
       "        text-align: right;\n",
       "    }\n",
       "</style>\n",
       "<table border=\"1\" class=\"dataframe\">\n",
       "  <thead>\n",
       "    <tr style=\"text-align: right;\">\n",
       "      <th></th>\n",
       "      <th>id</th>\n",
       "      <th>log_rrs411</th>\n",
       "      <th>log_rrs443</th>\n",
       "      <th>log_rrs489</th>\n",
       "      <th>log_rrs510</th>\n",
       "      <th>log_rrs555</th>\n",
       "      <th>log_rrs670</th>\n",
       "      <th>MaxBlueBand</th>\n",
       "      <th>log_mxBlu2Gr</th>\n",
       "      <th>log_chlor_a</th>\n",
       "      <th>is_hplc</th>\n",
       "    </tr>\n",
       "  </thead>\n",
       "  <tbody>\n",
       "    <tr>\n",
       "      <th>0</th>\n",
       "      <td>1565.0</td>\n",
       "      <td>-2.919229</td>\n",
       "      <td>-2.773122</td>\n",
       "      <td>-2.482397</td>\n",
       "      <td>-2.394012</td>\n",
       "      <td>-2.126145</td>\n",
       "      <td>-2.460352</td>\n",
       "      <td>Rrs510</td>\n",
       "      <td>-0.267867</td>\n",
       "      <td>1.581950</td>\n",
       "      <td>False</td>\n",
       "    </tr>\n",
       "    <tr>\n",
       "      <th>1</th>\n",
       "      <td>1566.0</td>\n",
       "      <td>-2.973995</td>\n",
       "      <td>-2.858857</td>\n",
       "      <td>-2.662956</td>\n",
       "      <td>-2.602191</td>\n",
       "      <td>-2.381734</td>\n",
       "      <td>-2.770862</td>\n",
       "      <td>Rrs510</td>\n",
       "      <td>-0.220457</td>\n",
       "      <td>1.544192</td>\n",
       "      <td>False</td>\n",
       "    </tr>\n",
       "    <tr>\n",
       "      <th>2</th>\n",
       "      <td>1567.0</td>\n",
       "      <td>-3.012722</td>\n",
       "      <td>-2.926105</td>\n",
       "      <td>-2.734427</td>\n",
       "      <td>-2.640597</td>\n",
       "      <td>-2.372060</td>\n",
       "      <td>-2.792560</td>\n",
       "      <td>Rrs510</td>\n",
       "      <td>-0.268537</td>\n",
       "      <td>1.429914</td>\n",
       "      <td>False</td>\n",
       "    </tr>\n",
       "    <tr>\n",
       "      <th>3</th>\n",
       "      <td>1568.0</td>\n",
       "      <td>-2.832150</td>\n",
       "      <td>-2.759143</td>\n",
       "      <td>-2.541014</td>\n",
       "      <td>-2.436014</td>\n",
       "      <td>-2.156039</td>\n",
       "      <td>-2.490282</td>\n",
       "      <td>Rrs510</td>\n",
       "      <td>-0.279976</td>\n",
       "      <td>1.680879</td>\n",
       "      <td>False</td>\n",
       "    </tr>\n",
       "    <tr>\n",
       "      <th>4</th>\n",
       "      <td>1559.0</td>\n",
       "      <td>-3.043308</td>\n",
       "      <td>-2.990409</td>\n",
       "      <td>-2.822196</td>\n",
       "      <td>-2.720468</td>\n",
       "      <td>-2.552735</td>\n",
       "      <td>-2.747020</td>\n",
       "      <td>Rrs510</td>\n",
       "      <td>-0.167733</td>\n",
       "      <td>1.371991</td>\n",
       "      <td>False</td>\n",
       "    </tr>\n",
       "  </tbody>\n",
       "</table>\n",
       "</div>"
      ],
      "text/plain": [
       "       id  log_rrs411  log_rrs443  log_rrs489  log_rrs510  log_rrs555  \\\n",
       "0  1565.0   -2.919229   -2.773122   -2.482397   -2.394012   -2.126145   \n",
       "1  1566.0   -2.973995   -2.858857   -2.662956   -2.602191   -2.381734   \n",
       "2  1567.0   -3.012722   -2.926105   -2.734427   -2.640597   -2.372060   \n",
       "3  1568.0   -2.832150   -2.759143   -2.541014   -2.436014   -2.156039   \n",
       "4  1559.0   -3.043308   -2.990409   -2.822196   -2.720468   -2.552735   \n",
       "\n",
       "   log_rrs670 MaxBlueBand  log_mxBlu2Gr  log_chlor_a is_hplc  \n",
       "0   -2.460352      Rrs510     -0.267867     1.581950   False  \n",
       "1   -2.770862      Rrs510     -0.220457     1.544192   False  \n",
       "2   -2.792560      Rrs510     -0.268537     1.429914   False  \n",
       "3   -2.490282      Rrs510     -0.279976     1.680879   False  \n",
       "4   -2.747020      Rrs510     -0.167733     1.371991   False  "
      ]
     },
     "execution_count": 38,
     "metadata": {},
     "output_type": "execute_result"
    }
   ],
   "source": [
    "df_log.insert(0, 'id', df_clean.id)\n",
    "df_log.insert(df_log.columns.get_loc('log_mxBlu2Gr'), \n",
    "             'MaxBlueBand', df_clean.MaxBlueBand)\n",
    "df_log['is_hplc'] = df_clean.is_hplc\n",
    "\n",
    "df_log = df_log[['id', 'log_rrs411', 'log_rrs443', 'log_rrs489',\n",
    "                 'log_rrs510', 'log_rrs555', 'log_rrs670' ,\n",
    "                 'MaxBlueBand', 'log_mxBlu2Gr',\n",
    "                 'log_chlor_a', 'is_hplc']]\n",
    "\n",
    "df_log.head()"
   ]
  },
  {
   "cell_type": "code",
   "execution_count": 39,
   "metadata": {},
   "outputs": [
    {
     "data": {
      "text/html": [
       "<div>\n",
       "<style scoped>\n",
       "    .dataframe tbody tr th:only-of-type {\n",
       "        vertical-align: middle;\n",
       "    }\n",
       "\n",
       "    .dataframe tbody tr th {\n",
       "        vertical-align: top;\n",
       "    }\n",
       "\n",
       "    .dataframe thead th {\n",
       "        text-align: right;\n",
       "    }\n",
       "</style>\n",
       "<table border=\"1\" class=\"dataframe\">\n",
       "  <thead>\n",
       "    <tr style=\"text-align: right;\">\n",
       "      <th></th>\n",
       "      <th>log_rrs411</th>\n",
       "      <th>log_rrs443</th>\n",
       "      <th>log_rrs489</th>\n",
       "      <th>log_rrs510</th>\n",
       "      <th>log_rrs555</th>\n",
       "      <th>log_rrs670</th>\n",
       "    </tr>\n",
       "  </thead>\n",
       "  <tbody>\n",
       "    <tr>\n",
       "      <th>count</th>\n",
       "      <td>1016.000000</td>\n",
       "      <td>1016.000000</td>\n",
       "      <td>1016.000000</td>\n",
       "      <td>1016.000000</td>\n",
       "      <td>1016.000000</td>\n",
       "      <td>1016.000000</td>\n",
       "    </tr>\n",
       "    <tr>\n",
       "      <th>mean</th>\n",
       "      <td>-2.469966</td>\n",
       "      <td>-2.434733</td>\n",
       "      <td>-2.348028</td>\n",
       "      <td>-2.372404</td>\n",
       "      <td>-2.419356</td>\n",
       "      <td>-3.175779</td>\n",
       "    </tr>\n",
       "    <tr>\n",
       "      <th>std</th>\n",
       "      <td>0.372152</td>\n",
       "      <td>0.322377</td>\n",
       "      <td>0.277348</td>\n",
       "      <td>0.276308</td>\n",
       "      <td>0.352022</td>\n",
       "      <td>0.588881</td>\n",
       "    </tr>\n",
       "    <tr>\n",
       "      <th>min</th>\n",
       "      <td>-4.290672</td>\n",
       "      <td>-3.721171</td>\n",
       "      <td>-3.435402</td>\n",
       "      <td>-3.303393</td>\n",
       "      <td>-3.379701</td>\n",
       "      <td>-4.440321</td>\n",
       "    </tr>\n",
       "    <tr>\n",
       "      <th>25%</th>\n",
       "      <td>-2.698900</td>\n",
       "      <td>-2.631142</td>\n",
       "      <td>-2.513907</td>\n",
       "      <td>-2.537605</td>\n",
       "      <td>-2.724524</td>\n",
       "      <td>-3.698398</td>\n",
       "    </tr>\n",
       "    <tr>\n",
       "      <th>50%</th>\n",
       "      <td>-2.468523</td>\n",
       "      <td>-2.420232</td>\n",
       "      <td>-2.328363</td>\n",
       "      <td>-2.420169</td>\n",
       "      <td>-2.486567</td>\n",
       "      <td>-3.212071</td>\n",
       "    </tr>\n",
       "    <tr>\n",
       "      <th>75%</th>\n",
       "      <td>-2.187091</td>\n",
       "      <td>-2.207596</td>\n",
       "      <td>-2.193829</td>\n",
       "      <td>-2.214667</td>\n",
       "      <td>-2.142606</td>\n",
       "      <td>-2.699023</td>\n",
       "    </tr>\n",
       "    <tr>\n",
       "      <th>max</th>\n",
       "      <td>-1.514280</td>\n",
       "      <td>-1.559082</td>\n",
       "      <td>-1.519995</td>\n",
       "      <td>-1.482807</td>\n",
       "      <td>-1.331613</td>\n",
       "      <td>-1.557521</td>\n",
       "    </tr>\n",
       "  </tbody>\n",
       "</table>\n",
       "</div>"
      ],
      "text/plain": [
       "        log_rrs411   log_rrs443   log_rrs489   log_rrs510   log_rrs555  \\\n",
       "count  1016.000000  1016.000000  1016.000000  1016.000000  1016.000000   \n",
       "mean     -2.469966    -2.434733    -2.348028    -2.372404    -2.419356   \n",
       "std       0.372152     0.322377     0.277348     0.276308     0.352022   \n",
       "min      -4.290672    -3.721171    -3.435402    -3.303393    -3.379701   \n",
       "25%      -2.698900    -2.631142    -2.513907    -2.537605    -2.724524   \n",
       "50%      -2.468523    -2.420232    -2.328363    -2.420169    -2.486567   \n",
       "75%      -2.187091    -2.207596    -2.193829    -2.214667    -2.142606   \n",
       "max      -1.514280    -1.559082    -1.519995    -1.482807    -1.331613   \n",
       "\n",
       "        log_rrs670  \n",
       "count  1016.000000  \n",
       "mean     -3.175779  \n",
       "std       0.588881  \n",
       "min      -4.440321  \n",
       "25%      -3.698398  \n",
       "50%      -3.212071  \n",
       "75%      -2.699023  \n",
       "max      -1.557521  "
      ]
     },
     "execution_count": 39,
     "metadata": {},
     "output_type": "execute_result"
    }
   ],
   "source": [
    "df_log.filter(regex='rrs', axis=1).describe()"
   ]
  },
  {
   "cell_type": "code",
   "execution_count": 40,
   "metadata": {},
   "outputs": [],
   "source": [
    "#Compute PC for all bands, for PCA-based regression algorithms\n",
    "pc_transformer = PCA()\n",
    "PCs = pc_transformer.fit_transform(df_log.filter(regex='rrs',\n",
    "                                                 axis=1).dropna()\n",
    "                                  )\n",
    "\n",
    "df_pc = pd.DataFrame(PCs, columns = [f'pc{i+1}' \n",
    "                                     for i in range(PCs.shape[1])])"
   ]
  },
  {
   "cell_type": "code",
   "execution_count": 41,
   "metadata": {},
   "outputs": [
    {
     "data": {
      "image/png": "[encoded data removed]",
      "text/plain": [
       "<Figure size 432x432 with 1 Axes>"
      ]
     },
     "metadata": {
      "needs_background": "light"
     },
     "output_type": "display_data"
    }
   ],
   "source": [
    "# Plotting explained variance of principle components\n",
    "_, ax = pl.subplots(figsize=(6, 6))\n",
    "ax.bar([f'PC{i}' for i in range(1, 7)],\n",
    "       np.cumsum(pc_transformer.explained_variance_ratio_),\n",
    "       alpha=0.7);\n",
    "ax.set_ylabel('Cumulative explained variance fraction')\n",
    "ax.set_xlabel('Principal Components');\n",
    "ax.set_ylim(0, 1)\n",
    "ax.axhline(0.95, color='k', ls='--');"
   ]
  },
  {
   "cell_type": "markdown",
   "metadata": {},
   "source": [
    "Before a principled statistical comparison of the different chlorophyll algorithms becomes possible, the different algorithms must be re-implemented using a Bayesian framework. The implementation follows the sequence below:\n",
    "\n",
    "* Model coding using a probabilistic programming language (PPL)\n",
    "* Prior predictive simulation \n",
    "* Model fitting using Hamiltonian Monte Carlo and the Nomad dataset\n",
    "* Posterior predictive simulation to quantify predictive uncertainty\n",
    "* Comparison of Model skill  on out-of-sample data using Information Criteria (IC) including Watanabe Akaike Information Criterion (WAIC) and/or Pareto Smoothed Importance Sampling Leave One Out Cross Validation (LOO).\n",
    "\n",
    "\n",
    "1. Implementation of $OC_4$ \n",
    "\n",
    "\n",
    "    A. Without chlorophyll measurement error"
   ]
  },
  {
   "cell_type": "code",
   "execution_count": 42,
   "metadata": {},
   "outputs": [],
   "source": [
    "X = df_log.log_mxBlu2Gr.values\n",
    "y = df_log.log_chlor_a.values\n",
    "X_poly = np.c_[X, np.power(X, 2), np.power(X, 3), np.power(X, 4)]"
   ]
  },
  {
   "cell_type": "code",
   "execution_count": 43,
   "metadata": {},
   "outputs": [
    {
     "data": {
      "text/plain": [
       "(1016, 4)"
      ]
     },
     "execution_count": 43,
     "metadata": {},
     "output_type": "execute_result"
    }
   ],
   "source": [
    "X_poly.shape"
   ]
  },
  {
   "cell_type": "code",
   "execution_count": 44,
   "metadata": {},
   "outputs": [],
   "source": [
    "with pm.Model() as m_oc4:\n",
    "    α = pm.Normal('α', 0, 1)\n",
    "    β = pm.Normal('β', 0, 1, shape=X_poly.shape[1])\n",
    "    σ = pm.Exponential('σ', 1)\n",
    "    μ =  pm.math.dot(X_poly, β)\n",
    "    log_chl = pm.Normal('log_chl', mu=μ, sd=σ, observed=y)"
   ]
  },
  {
   "cell_type": "code",
   "execution_count": 48,
   "metadata": {},
   "outputs": [],
   "source": [
    "m_oc4_priors = pm.sample_prior_predictive(model=m_oc4,\n",
    "                                         vars=['α', 'β', 'σ'])"
   ]
  },
  {
   "cell_type": "code",
   "execution_count": 45,
   "metadata": {},
   "outputs": [
    {
     "name": "stderr",
     "output_type": "stream",
     "text": [
      "Auto-assigning NUTS sampler...\n",
      "Initializing NUTS using jitter+adapt_diag...\n",
      "Multiprocess sampling (2 chains in 2 jobs)\n",
      "NUTS: [σ, β, α]\n",
      "Sampling 2 chains: 100%|██████████| 6000/6000 [00:19<00:00, 310.80draws/s]\n"
     ]
    }
   ],
   "source": [
    "with m_oc4:\n",
    "    trace_oc4 = pm.sample(2000, tune=1000)"
   ]
  },
  {
   "cell_type": "code",
   "execution_count": 49,
   "metadata": {},
   "outputs": [],
   "source": [
    "m_oc4_posteriors = {k: trace_oc4.get_values(k) for k in ['α', 'β', 'σ']}"
   ]
  },
  {
   "cell_type": "code",
   "execution_count": 47,
   "metadata": {},
   "outputs": [
    {
     "data": {
      "image/png": "[encoded data removed]",
      "text/plain": [
       "<Figure size 432x288 with 2 Axes>"
      ]
     },
     "metadata": {
      "needs_background": "light"
     },
     "output_type": "display_data"
    }
   ],
   "source": [
    "pm.forestplot(trace_oc4, varnames=['α', 'β']);"
   ]
  },
  {
   "cell_type": "markdown",
   "metadata": {},
   "source": [
    "    B. With chlorophyll measurement error"
   ]
  },
  {
   "cell_type": "code",
   "execution_count": null,
   "metadata": {},
   "outputs": [],
   "source": []
  },
  {
   "cell_type": "markdown",
   "metadata": {},
   "source": [
    "2. Implementation of $OC_x$ with $CI$ split\n",
    "\n",
    "\n",
    "    A. Without chlorophyll measurement error"
   ]
  },
  {
   "cell_type": "code",
   "execution_count": null,
   "metadata": {},
   "outputs": [],
   "source": []
  },
  {
   "cell_type": "markdown",
   "metadata": {},
   "source": [
    "    B. With chlorophyll measurement error"
   ]
  },
  {
   "cell_type": "code",
   "execution_count": null,
   "metadata": {},
   "outputs": [],
   "source": []
  },
  {
   "cell_type": "markdown",
   "metadata": {},
   "source": [
    "3. Simple band ratio\n",
    "\n",
    "    A. Without chlorophyll measurement error"
   ]
  },
  {
   "cell_type": "code",
   "execution_count": null,
   "metadata": {},
   "outputs": [],
   "source": []
  },
  {
   "cell_type": "markdown",
   "metadata": {},
   "source": [
    "    B. With chlorophyll measurement error"
   ]
  },
  {
   "cell_type": "code",
   "execution_count": null,
   "metadata": {},
   "outputs": [],
   "source": []
  },
  {
   "cell_type": "markdown",
   "metadata": {},
   "source": [
    "4. Multivariate Linear Regression\n",
    "\n",
    "\n",
    "    A. Without chlorophyll measurement error"
   ]
  },
  {
   "cell_type": "code",
   "execution_count": null,
   "metadata": {},
   "outputs": [],
   "source": []
  },
  {
   "cell_type": "markdown",
   "metadata": {},
   "source": [
    "    B. With chlorophyll measurement error"
   ]
  },
  {
   "cell_type": "markdown",
   "metadata": {},
   "source": [
    "5. Multivariate Linear Regression with Prior Transformation of Principal Components of Reflectance\n",
    "\n",
    "    A. Without chlorophyll measurement error"
   ]
  },
  {
   "cell_type": "code",
   "execution_count": null,
   "metadata": {},
   "outputs": [],
   "source": []
  },
  {
   "cell_type": "markdown",
   "metadata": {},
   "source": [
    "    B. With chlorophyll measurement error"
   ]
  },
  {
   "cell_type": "code",
   "execution_count": null,
   "metadata": {},
   "outputs": [],
   "source": []
  }
 ],
 "metadata": {
  "kernelspec": {
   "display_name": "Python 3",
   "language": "python",
   "name": "python3"
  },
  "language_info": {
   "codemirror_mode": {
    "name": "ipython",
    "version": 3
   },
   "file_extension": ".py",
   "mimetype": "text/x-python",
   "name": "python",
   "nbconvert_exporter": "python",
   "pygments_lexer": "ipython3",
   "version": "3.7.3"
  }
 },
 "nbformat": 4,
 "nbformat_minor": 2
}
